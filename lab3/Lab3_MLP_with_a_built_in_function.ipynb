{
  "nbformat": 4,
  "nbformat_minor": 0,
  "metadata": {
    "colab": {
      "provenance": [],
      "include_colab_link": true
    },
    "kernelspec": {
      "name": "python3",
      "display_name": "Python 3"
    },
    "language_info": {
      "name": "python"
    }
  },
  "cells": [
    {
      "cell_type": "markdown",
      "metadata": {
        "id": "view-in-github",
        "colab_type": "text"
      },
      "source": [
        "<a href=\"https://colab.research.google.com/github/Actulus/MI/blob/main/lab3/Lab3_MLP_with_a_built_in_function.ipynb\" target=\"_parent\"><img src=\"https://colab.research.google.com/assets/colab-badge.svg\" alt=\"Open In Colab\"/></a>"
      ]
    },
    {
      "cell_type": "markdown",
      "source": [
        "# Alkalmazottak lemorzsolódása\n",
        "Ebben a részben az alkalmazottak lemorzsolódásának előrejelzését hajtjuk végre a Multi-Layer Perceptron segítségével. Az alkalmazottak lemorzsolódásának előrejelzése segít jobb munkavállalói megtartási tervek kialakításában és a munkavállalói elégedettség javításában.\n",
        "\n",
        "# Adatkészlet betöltése\n",
        "Először töltsük be a szükséges HR-adatkészletet a pandák read CSV funkciójával. Az adatokat az alábbi linkről töltheti le:"
      ],
      "metadata": {
        "id": "TIABs0evoCGw"
      }
    },
    {
      "cell_type": "code",
      "execution_count": 1,
      "metadata": {
        "id": "YjvsU5NAlpDu"
      },
      "outputs": [],
      "source": [
        "#import modules\n",
        "import matplotlib.pyplot as plt # for plotting graphs\n",
        "import numpy as np\n",
        "import pandas as pd\n",
        "\n",
        "# Import LabelEncoder\n",
        "from sklearn import preprocessing\n",
        "\n",
        "# Import MLPClassifer\n",
        "from sklearn.neural_network import MLPClassifier\n",
        "#https://scikit-learn.org/stable/modules/generated/sklearn.neural_network.MLPClassifier.html\n",
        "\n",
        "# Import train_test_split function\n",
        "from sklearn.model_selection import train_test_split\n",
        "\n",
        "# Import scikit-learn metrics module for accuracy calculation\n",
        "from sklearn import metrics\n",
        "\n",
        "#import module\n",
        "from sklearn.cluster import KMeans"
      ]
    },
    {
      "cell_type": "code",
      "source": [
        "from google.colab import drive\n",
        "drive.mount('/content/drive')"
      ],
      "metadata": {
        "id": "3ba6Ul-ztfix",
        "colab": {
          "base_uri": "https://localhost:8080/"
        },
        "outputId": "120cdb43-ffe6-4580-b5d6-137d031808ca"
      },
      "execution_count": 2,
      "outputs": [
        {
          "output_type": "stream",
          "name": "stdout",
          "text": [
            "Mounted at /content/drive\n"
          ]
        }
      ]
    },
    {
      "cell_type": "code",
      "source": [
        "# Load data\n",
        "path='/content/drive/My Drive/MI/lab3/HR_comma_sep.csv'\n",
        "\n",
        "data=pd.read_csv(path)\n",
        "\n",
        "data.head()"
      ],
      "metadata": {
        "colab": {
          "base_uri": "https://localhost:8080/",
          "height": 206
        },
        "id": "xiEoo1laoYpP",
        "outputId": "c440b7a5-7374-40c5-cafd-037971cdef83"
      },
      "execution_count": 4,
      "outputs": [
        {
          "output_type": "execute_result",
          "data": {
            "text/plain": [
              "   satisfaction_level  last_evaluation  number_project  average_montly_hours  \\\n",
              "0                0.38             0.53               2                   157   \n",
              "1                0.80             0.86               5                   262   \n",
              "2                0.11             0.88               7                   272   \n",
              "3                0.72             0.87               5                   223   \n",
              "4                0.37             0.52               2                   159   \n",
              "\n",
              "   time_spend_company  Work_accident  left  promotion_last_5years  sales  \\\n",
              "0                   3              0     1                      0  sales   \n",
              "1                   6              0     1                      0  sales   \n",
              "2                   4              0     1                      0  sales   \n",
              "3                   5              0     1                      0  sales   \n",
              "4                   3              0     1                      0  sales   \n",
              "\n",
              "   salary  \n",
              "0     low  \n",
              "1  medium  \n",
              "2  medium  \n",
              "3     low  \n",
              "4     low  "
            ],
            "text/html": [
              "\n",
              "  <div id=\"df-4166d12f-0cd6-49c0-8543-cda4fff34e9a\" class=\"colab-df-container\">\n",
              "    <div>\n",
              "<style scoped>\n",
              "    .dataframe tbody tr th:only-of-type {\n",
              "        vertical-align: middle;\n",
              "    }\n",
              "\n",
              "    .dataframe tbody tr th {\n",
              "        vertical-align: top;\n",
              "    }\n",
              "\n",
              "    .dataframe thead th {\n",
              "        text-align: right;\n",
              "    }\n",
              "</style>\n",
              "<table border=\"1\" class=\"dataframe\">\n",
              "  <thead>\n",
              "    <tr style=\"text-align: right;\">\n",
              "      <th></th>\n",
              "      <th>satisfaction_level</th>\n",
              "      <th>last_evaluation</th>\n",
              "      <th>number_project</th>\n",
              "      <th>average_montly_hours</th>\n",
              "      <th>time_spend_company</th>\n",
              "      <th>Work_accident</th>\n",
              "      <th>left</th>\n",
              "      <th>promotion_last_5years</th>\n",
              "      <th>sales</th>\n",
              "      <th>salary</th>\n",
              "    </tr>\n",
              "  </thead>\n",
              "  <tbody>\n",
              "    <tr>\n",
              "      <th>0</th>\n",
              "      <td>0.38</td>\n",
              "      <td>0.53</td>\n",
              "      <td>2</td>\n",
              "      <td>157</td>\n",
              "      <td>3</td>\n",
              "      <td>0</td>\n",
              "      <td>1</td>\n",
              "      <td>0</td>\n",
              "      <td>sales</td>\n",
              "      <td>low</td>\n",
              "    </tr>\n",
              "    <tr>\n",
              "      <th>1</th>\n",
              "      <td>0.80</td>\n",
              "      <td>0.86</td>\n",
              "      <td>5</td>\n",
              "      <td>262</td>\n",
              "      <td>6</td>\n",
              "      <td>0</td>\n",
              "      <td>1</td>\n",
              "      <td>0</td>\n",
              "      <td>sales</td>\n",
              "      <td>medium</td>\n",
              "    </tr>\n",
              "    <tr>\n",
              "      <th>2</th>\n",
              "      <td>0.11</td>\n",
              "      <td>0.88</td>\n",
              "      <td>7</td>\n",
              "      <td>272</td>\n",
              "      <td>4</td>\n",
              "      <td>0</td>\n",
              "      <td>1</td>\n",
              "      <td>0</td>\n",
              "      <td>sales</td>\n",
              "      <td>medium</td>\n",
              "    </tr>\n",
              "    <tr>\n",
              "      <th>3</th>\n",
              "      <td>0.72</td>\n",
              "      <td>0.87</td>\n",
              "      <td>5</td>\n",
              "      <td>223</td>\n",
              "      <td>5</td>\n",
              "      <td>0</td>\n",
              "      <td>1</td>\n",
              "      <td>0</td>\n",
              "      <td>sales</td>\n",
              "      <td>low</td>\n",
              "    </tr>\n",
              "    <tr>\n",
              "      <th>4</th>\n",
              "      <td>0.37</td>\n",
              "      <td>0.52</td>\n",
              "      <td>2</td>\n",
              "      <td>159</td>\n",
              "      <td>3</td>\n",
              "      <td>0</td>\n",
              "      <td>1</td>\n",
              "      <td>0</td>\n",
              "      <td>sales</td>\n",
              "      <td>low</td>\n",
              "    </tr>\n",
              "  </tbody>\n",
              "</table>\n",
              "</div>\n",
              "    <div class=\"colab-df-buttons\">\n",
              "\n",
              "  <div class=\"colab-df-container\">\n",
              "    <button class=\"colab-df-convert\" onclick=\"convertToInteractive('df-4166d12f-0cd6-49c0-8543-cda4fff34e9a')\"\n",
              "            title=\"Convert this dataframe to an interactive table.\"\n",
              "            style=\"display:none;\">\n",
              "\n",
              "  <svg xmlns=\"http://www.w3.org/2000/svg\" height=\"24px\" viewBox=\"0 -960 960 960\">\n",
              "    <path d=\"M120-120v-720h720v720H120Zm60-500h600v-160H180v160Zm220 220h160v-160H400v160Zm0 220h160v-160H400v160ZM180-400h160v-160H180v160Zm440 0h160v-160H620v160ZM180-180h160v-160H180v160Zm440 0h160v-160H620v160Z\"/>\n",
              "  </svg>\n",
              "    </button>\n",
              "\n",
              "  <style>\n",
              "    .colab-df-container {\n",
              "      display:flex;\n",
              "      gap: 12px;\n",
              "    }\n",
              "\n",
              "    .colab-df-convert {\n",
              "      background-color: #E8F0FE;\n",
              "      border: none;\n",
              "      border-radius: 50%;\n",
              "      cursor: pointer;\n",
              "      display: none;\n",
              "      fill: #1967D2;\n",
              "      height: 32px;\n",
              "      padding: 0 0 0 0;\n",
              "      width: 32px;\n",
              "    }\n",
              "\n",
              "    .colab-df-convert:hover {\n",
              "      background-color: #E2EBFA;\n",
              "      box-shadow: 0px 1px 2px rgba(60, 64, 67, 0.3), 0px 1px 3px 1px rgba(60, 64, 67, 0.15);\n",
              "      fill: #174EA6;\n",
              "    }\n",
              "\n",
              "    .colab-df-buttons div {\n",
              "      margin-bottom: 4px;\n",
              "    }\n",
              "\n",
              "    [theme=dark] .colab-df-convert {\n",
              "      background-color: #3B4455;\n",
              "      fill: #D2E3FC;\n",
              "    }\n",
              "\n",
              "    [theme=dark] .colab-df-convert:hover {\n",
              "      background-color: #434B5C;\n",
              "      box-shadow: 0px 1px 3px 1px rgba(0, 0, 0, 0.15);\n",
              "      filter: drop-shadow(0px 1px 2px rgba(0, 0, 0, 0.3));\n",
              "      fill: #FFFFFF;\n",
              "    }\n",
              "  </style>\n",
              "\n",
              "    <script>\n",
              "      const buttonEl =\n",
              "        document.querySelector('#df-4166d12f-0cd6-49c0-8543-cda4fff34e9a button.colab-df-convert');\n",
              "      buttonEl.style.display =\n",
              "        google.colab.kernel.accessAllowed ? 'block' : 'none';\n",
              "\n",
              "      async function convertToInteractive(key) {\n",
              "        const element = document.querySelector('#df-4166d12f-0cd6-49c0-8543-cda4fff34e9a');\n",
              "        const dataTable =\n",
              "          await google.colab.kernel.invokeFunction('convertToInteractive',\n",
              "                                                    [key], {});\n",
              "        if (!dataTable) return;\n",
              "\n",
              "        const docLinkHtml = 'Like what you see? Visit the ' +\n",
              "          '<a target=\"_blank\" href=https://colab.research.google.com/notebooks/data_table.ipynb>data table notebook</a>'\n",
              "          + ' to learn more about interactive tables.';\n",
              "        element.innerHTML = '';\n",
              "        dataTable['output_type'] = 'display_data';\n",
              "        await google.colab.output.renderOutput(dataTable, element);\n",
              "        const docLink = document.createElement('div');\n",
              "        docLink.innerHTML = docLinkHtml;\n",
              "        element.appendChild(docLink);\n",
              "      }\n",
              "    </script>\n",
              "  </div>\n",
              "\n",
              "\n",
              "<div id=\"df-8797591a-4d75-4b15-ae76-8ad293f8b20d\">\n",
              "  <button class=\"colab-df-quickchart\" onclick=\"quickchart('df-8797591a-4d75-4b15-ae76-8ad293f8b20d')\"\n",
              "            title=\"Suggest charts\"\n",
              "            style=\"display:none;\">\n",
              "\n",
              "<svg xmlns=\"http://www.w3.org/2000/svg\" height=\"24px\"viewBox=\"0 0 24 24\"\n",
              "     width=\"24px\">\n",
              "    <g>\n",
              "        <path d=\"M19 3H5c-1.1 0-2 .9-2 2v14c0 1.1.9 2 2 2h14c1.1 0 2-.9 2-2V5c0-1.1-.9-2-2-2zM9 17H7v-7h2v7zm4 0h-2V7h2v10zm4 0h-2v-4h2v4z\"/>\n",
              "    </g>\n",
              "</svg>\n",
              "  </button>\n",
              "\n",
              "<style>\n",
              "  .colab-df-quickchart {\n",
              "      --bg-color: #E8F0FE;\n",
              "      --fill-color: #1967D2;\n",
              "      --hover-bg-color: #E2EBFA;\n",
              "      --hover-fill-color: #174EA6;\n",
              "      --disabled-fill-color: #AAA;\n",
              "      --disabled-bg-color: #DDD;\n",
              "  }\n",
              "\n",
              "  [theme=dark] .colab-df-quickchart {\n",
              "      --bg-color: #3B4455;\n",
              "      --fill-color: #D2E3FC;\n",
              "      --hover-bg-color: #434B5C;\n",
              "      --hover-fill-color: #FFFFFF;\n",
              "      --disabled-bg-color: #3B4455;\n",
              "      --disabled-fill-color: #666;\n",
              "  }\n",
              "\n",
              "  .colab-df-quickchart {\n",
              "    background-color: var(--bg-color);\n",
              "    border: none;\n",
              "    border-radius: 50%;\n",
              "    cursor: pointer;\n",
              "    display: none;\n",
              "    fill: var(--fill-color);\n",
              "    height: 32px;\n",
              "    padding: 0;\n",
              "    width: 32px;\n",
              "  }\n",
              "\n",
              "  .colab-df-quickchart:hover {\n",
              "    background-color: var(--hover-bg-color);\n",
              "    box-shadow: 0 1px 2px rgba(60, 64, 67, 0.3), 0 1px 3px 1px rgba(60, 64, 67, 0.15);\n",
              "    fill: var(--button-hover-fill-color);\n",
              "  }\n",
              "\n",
              "  .colab-df-quickchart-complete:disabled,\n",
              "  .colab-df-quickchart-complete:disabled:hover {\n",
              "    background-color: var(--disabled-bg-color);\n",
              "    fill: var(--disabled-fill-color);\n",
              "    box-shadow: none;\n",
              "  }\n",
              "\n",
              "  .colab-df-spinner {\n",
              "    border: 2px solid var(--fill-color);\n",
              "    border-color: transparent;\n",
              "    border-bottom-color: var(--fill-color);\n",
              "    animation:\n",
              "      spin 1s steps(1) infinite;\n",
              "  }\n",
              "\n",
              "  @keyframes spin {\n",
              "    0% {\n",
              "      border-color: transparent;\n",
              "      border-bottom-color: var(--fill-color);\n",
              "      border-left-color: var(--fill-color);\n",
              "    }\n",
              "    20% {\n",
              "      border-color: transparent;\n",
              "      border-left-color: var(--fill-color);\n",
              "      border-top-color: var(--fill-color);\n",
              "    }\n",
              "    30% {\n",
              "      border-color: transparent;\n",
              "      border-left-color: var(--fill-color);\n",
              "      border-top-color: var(--fill-color);\n",
              "      border-right-color: var(--fill-color);\n",
              "    }\n",
              "    40% {\n",
              "      border-color: transparent;\n",
              "      border-right-color: var(--fill-color);\n",
              "      border-top-color: var(--fill-color);\n",
              "    }\n",
              "    60% {\n",
              "      border-color: transparent;\n",
              "      border-right-color: var(--fill-color);\n",
              "    }\n",
              "    80% {\n",
              "      border-color: transparent;\n",
              "      border-right-color: var(--fill-color);\n",
              "      border-bottom-color: var(--fill-color);\n",
              "    }\n",
              "    90% {\n",
              "      border-color: transparent;\n",
              "      border-bottom-color: var(--fill-color);\n",
              "    }\n",
              "  }\n",
              "</style>\n",
              "\n",
              "  <script>\n",
              "    async function quickchart(key) {\n",
              "      const quickchartButtonEl =\n",
              "        document.querySelector('#' + key + ' button');\n",
              "      quickchartButtonEl.disabled = true;  // To prevent multiple clicks.\n",
              "      quickchartButtonEl.classList.add('colab-df-spinner');\n",
              "      try {\n",
              "        const charts = await google.colab.kernel.invokeFunction(\n",
              "            'suggestCharts', [key], {});\n",
              "      } catch (error) {\n",
              "        console.error('Error during call to suggestCharts:', error);\n",
              "      }\n",
              "      quickchartButtonEl.classList.remove('colab-df-spinner');\n",
              "      quickchartButtonEl.classList.add('colab-df-quickchart-complete');\n",
              "    }\n",
              "    (() => {\n",
              "      let quickchartButtonEl =\n",
              "        document.querySelector('#df-8797591a-4d75-4b15-ae76-8ad293f8b20d button');\n",
              "      quickchartButtonEl.style.display =\n",
              "        google.colab.kernel.accessAllowed ? 'block' : 'none';\n",
              "    })();\n",
              "  </script>\n",
              "</div>\n",
              "    </div>\n",
              "  </div>\n"
            ],
            "application/vnd.google.colaboratory.intrinsic+json": {
              "type": "dataframe",
              "variable_name": "data",
              "summary": "{\n  \"name\": \"data\",\n  \"rows\": 14999,\n  \"fields\": [\n    {\n      \"column\": \"satisfaction_level\",\n      \"properties\": {\n        \"dtype\": \"number\",\n        \"std\": 0.24863065106114257,\n        \"min\": 0.09,\n        \"max\": 1.0,\n        \"num_unique_values\": 92,\n        \"samples\": [\n          0.83,\n          0.13,\n          0.55\n        ],\n        \"semantic_type\": \"\",\n        \"description\": \"\"\n      }\n    },\n    {\n      \"column\": \"last_evaluation\",\n      \"properties\": {\n        \"dtype\": \"number\",\n        \"std\": 0.17116911062327533,\n        \"min\": 0.36,\n        \"max\": 1.0,\n        \"num_unique_values\": 65,\n        \"samples\": [\n          0.66,\n          0.44,\n          0.53\n        ],\n        \"semantic_type\": \"\",\n        \"description\": \"\"\n      }\n    },\n    {\n      \"column\": \"number_project\",\n      \"properties\": {\n        \"dtype\": \"number\",\n        \"std\": 1,\n        \"min\": 2,\n        \"max\": 7,\n        \"num_unique_values\": 6,\n        \"samples\": [\n          2,\n          5,\n          3\n        ],\n        \"semantic_type\": \"\",\n        \"description\": \"\"\n      }\n    },\n    {\n      \"column\": \"average_montly_hours\",\n      \"properties\": {\n        \"dtype\": \"number\",\n        \"std\": 49,\n        \"min\": 96,\n        \"max\": 310,\n        \"num_unique_values\": 215,\n        \"samples\": [\n          118,\n          112,\n          222\n        ],\n        \"semantic_type\": \"\",\n        \"description\": \"\"\n      }\n    },\n    {\n      \"column\": \"time_spend_company\",\n      \"properties\": {\n        \"dtype\": \"number\",\n        \"std\": 1,\n        \"min\": 2,\n        \"max\": 10,\n        \"num_unique_values\": 8,\n        \"samples\": [\n          6,\n          8,\n          3\n        ],\n        \"semantic_type\": \"\",\n        \"description\": \"\"\n      }\n    },\n    {\n      \"column\": \"Work_accident\",\n      \"properties\": {\n        \"dtype\": \"number\",\n        \"std\": 0,\n        \"min\": 0,\n        \"max\": 1,\n        \"num_unique_values\": 2,\n        \"samples\": [\n          1,\n          0\n        ],\n        \"semantic_type\": \"\",\n        \"description\": \"\"\n      }\n    },\n    {\n      \"column\": \"left\",\n      \"properties\": {\n        \"dtype\": \"number\",\n        \"std\": 0,\n        \"min\": 0,\n        \"max\": 1,\n        \"num_unique_values\": 2,\n        \"samples\": [\n          0,\n          1\n        ],\n        \"semantic_type\": \"\",\n        \"description\": \"\"\n      }\n    },\n    {\n      \"column\": \"promotion_last_5years\",\n      \"properties\": {\n        \"dtype\": \"number\",\n        \"std\": 0,\n        \"min\": 0,\n        \"max\": 1,\n        \"num_unique_values\": 2,\n        \"samples\": [\n          1,\n          0\n        ],\n        \"semantic_type\": \"\",\n        \"description\": \"\"\n      }\n    },\n    {\n      \"column\": \"sales\",\n      \"properties\": {\n        \"dtype\": \"category\",\n        \"num_unique_values\": 10,\n        \"samples\": [\n          \"marketing\",\n          \"accounting\"\n        ],\n        \"semantic_type\": \"\",\n        \"description\": \"\"\n      }\n    },\n    {\n      \"column\": \"salary\",\n      \"properties\": {\n        \"dtype\": \"category\",\n        \"num_unique_values\": 3,\n        \"samples\": [\n          \"low\",\n          \"medium\"\n        ],\n        \"semantic_type\": \"\",\n        \"description\": \"\"\n      }\n    }\n  ]\n}"
            }
          },
          "metadata": {},
          "execution_count": 4
        }
      ]
    },
    {
      "cell_type": "markdown",
      "source": [
        "# Előfeldolgozás: Címkekódolás\n",
        "Sok gépi tanulási algoritmus numerikus bemeneti adatokat igényel, ezért a kategorikus oszlopokat egy numerikus oszlopban kell ábrázolnia. Az adatok kódolásához minden értéket leképezhet egy számra. például. A fizetés oszlop értéke alacsony:0, közepes:1 és magas:2 formában jeleníthető meg. Ezt a folyamatot címkekódolásnak nevezik. A sklearnben ezt a LabelEncoder segítségével tehetjük meg.\n",
        "\n",
        "Itt importáltuk az előfeldolgozó modult, és létrehoztuk a Label Encoder objektumot. Ezzel a LabelEncoder objektummal illesztheti és átalakíthatja a „fizetés” és a „Részlegek” oszlopot numerikus oszlopokká."
      ],
      "metadata": {
        "id": "VYeo7cOKoziB"
      }
    },
    {
      "cell_type": "code",
      "source": [
        "# Creating labelEncoder\n",
        "le = preprocessing.LabelEncoder()\n",
        "\n",
        "# Converting string labels into numbers.\n",
        "data['salary']=le.fit_transform(data['salary'])\n",
        "data['sales']=le.fit_transform(data['sales'])"
      ],
      "metadata": {
        "id": "fvy6_cdYo22X"
      },
      "execution_count": 5,
      "outputs": []
    },
    {
      "cell_type": "markdown",
      "source": [
        "# Ossza fel az adatkészletet\n",
        "A modell teljesítményének értékeléséhez az adatkészletet fel kell osztanunk egy tanítókészletre és egy tesztkészletre. Osszuk fel az adatkészletet a train_test_split() függvény használatával. alapvetően 3 paramétert kell átadnia: jellemzők, cél és teszt_készlet mérete."
      ],
      "metadata": {
        "id": "HajvdThkpKPz"
      }
    },
    {
      "cell_type": "code",
      "source": [
        "# Spliting data into Feature and\n",
        "X=data[['satisfaction_level', 'last_evaluation', 'number_project', 'average_montly_hours', 'time_spend_company', 'Work_accident', 'promotion_last_5years', 'sales', 'salary']]\n",
        "y=data['left']\n",
        "\n",
        "# Split dataset into training set and test set\n",
        "X_train, X_test, y_train, y_test = train_test_split(X, y, test_size=0.3, random_state=42)  # 70% training and 30% test"
      ],
      "metadata": {
        "id": "nsRn6ZtipLjY"
      },
      "execution_count": 6,
      "outputs": []
    },
    {
      "cell_type": "markdown",
      "source": [
        "A cégen belül dolgozók elégedetségéenek csoportosítása:\n",
        "\n",
        "*   A zöld a lejobban elégedett\n",
        "*   A szürke kevésbé\n",
        "*   A piros inkább tovább áll vagy szív és marad"
      ],
      "metadata": {
        "id": "hU1QMaTFdwEC"
      }
    },
    {
      "cell_type": "code",
      "source": [
        "# Filter data\n",
        "left_emp =  data[['satisfaction_level', 'last_evaluation']][data.left == 1]\n",
        "\n",
        "# Create groups using K-means clustering.\n",
        "kmeans = KMeans(n_clusters = 3, random_state = 0).fit(left_emp)\n",
        "\n",
        "# Add new column \"label\" annd assign cluster labels.\n",
        "left_emp['label'] = kmeans.labels_\n",
        "\n",
        "# use colormap\n",
        "colormap = np.array(['g', 'r', 'gray'])\n",
        "\n",
        "# Draw scatter plot\n",
        "plt.scatter(left_emp['satisfaction_level'], left_emp['last_evaluation'], c=colormap[left_emp['label']],cmap='Accent')\n",
        "plt.xlabel('Satisfaction Level')\n",
        "plt.ylabel('Last Evaluation')\n",
        "plt.title('3 Clusters of employees who left')\n",
        "plt.show()"
      ],
      "metadata": {
        "colab": {
          "base_uri": "https://localhost:8080/",
          "height": 561
        },
        "id": "XHYNegv5u2Bo",
        "outputId": "a6c85859-5bb7-4be7-a981-f703d0628963"
      },
      "execution_count": 7,
      "outputs": [
        {
          "output_type": "stream",
          "name": "stderr",
          "text": [
            "/usr/local/lib/python3.10/dist-packages/sklearn/cluster/_kmeans.py:870: FutureWarning: The default value of `n_init` will change from 10 to 'auto' in 1.4. Set the value of `n_init` explicitly to suppress the warning\n",
            "  warnings.warn(\n",
            "<ipython-input-7-21d612d6491f>:14: UserWarning: No data for colormapping provided via 'c'. Parameters 'cmap' will be ignored\n",
            "  plt.scatter(left_emp['satisfaction_level'], left_emp['last_evaluation'], c=colormap[left_emp['label']],cmap='Accent')\n"
          ]
        },
        {
          "output_type": "display_data",
          "data": {
            "text/plain": [
              "<Figure size 640x480 with 1 Axes>"
            ],
            "image/png": "[encoded data removed]"
          },
          "metadata": {}
        }
      ]
    },
    {
      "cell_type": "markdown",
      "source": [
        "# Osztályozási modell felépítése\n",
        "Építsünk fel egy alkalmazotti lemorzsolódási modellt. Itt a célunk a lemorzsolódás előrejelzése az MLPClassifier segítségével.\n",
        "\n",
        "Először importálja az MLPClassifier modult, és hozzon létre MLP Classifier objektumot az MLPClassifier() függvény segítségével. Ezután illessze a modellt a tanulásra a fit() segítségével, és hajtson végre előrejelzést a tesztkészleten a predikció() segítségével."
      ],
      "metadata": {
        "id": "ShWTmOoipYjR"
      }
    },
    {
      "cell_type": "code",
      "source": [
        "# Create model object - minden iteracional ugyanaz fut le\n",
        "\"\"\"clf = MLPClassifier(hidden_layer_sizes=(6,5),\n",
        "                    random_state=5,\n",
        "                    activation='relu',\n",
        "                    early_stopping=True,\n",
        "                    max_iter=300,\n",
        "                    learning_rate_init=0.01,\n",
        "                    verbose=True)\"\"\"\n",
        "# hidden_layer_sizes=(6,5), learning_rate_init=0.01, random_state=5 Validation score: 0.912381\n",
        "\n",
        "clf = MLPClassifier(hidden_layer_sizes=(6,5),\n",
        "                    random_state=5,\n",
        "                    activation='relu',\n",
        "                    early_stopping=True,\n",
        "                    max_iter=100,\n",
        "                    learning_rate_init=0.001,\n",
        "                    learning_rate='adaptive',\n",
        "                    verbose=True,\n",
        "                    solver='adam',\n",
        "                    momentum=0.8)\n",
        "\n",
        "# kisebbekkel jobb ertek, mint nagyobbakkal, de a tobbi parametertol is fugg\n",
        "# hidden_layer_sizes=(10) -> Validation score: 0.767619\n",
        "# hidden_layer_sizes=(30) -> Validation score: 0.757143\n",
        "# hidden_layer_sizes=(3) -> Validation score: 0.761905\n",
        "# hidden_layer_sizes=(6,3) -> Validation score: 0.901905\n",
        "\n",
        "# kisebbekkel jobb ertek, mint nagyobbakkal, de a tobbi parametertol is fugg\n",
        "# learning_rate_init=0.1 -> Validation score: 0.761905\n",
        "# learning_rate_init=0.001 -> Validation score: 0.926667\n",
        "# learning_rate_init=0.009 -> Validation score: 0.904762\n",
        "\n",
        "# nagyobakkal jobb ertek, mint kisebbekkel, de a tobbi parametertol is fugg\n",
        "# random_state=10 -> Validation score: 0.761905\n",
        "# random_state=2 -> Validation score: 0.757143\n",
        "# random_state=15 -> Validation score: 0.761905\n",
        "\n",
        "# activation='identity' -> ront: Validation score: 0.760952\n",
        "# activation='logistic' -> Validation score: 0.761905\n",
        "# activation='tanh' -> Validation score: 0.761905\n",
        "\n",
        "# solver='adam' -> Validation score: 0.926667\n",
        "# solver='sgd' -> Validation score: 0.761905\n",
        "# solver='lbfgs' -> -\n",
        "\n",
        "# learning_rate='constant' -> Validation score: 0.926667\n",
        "# learning_rate='invscaling' -> Validation score: 0.926667\n",
        "# learning_rate='adaptive' -> Validation score: 0.926667\n",
        "\n",
        "# max_iter megszabja, hogy max hanyszor iteraljon az algoritmus a data-n\n",
        "# max_iter=50 -> Validation score: 0.909524\n",
        "# max_iter=100 -> Validation score: 0.932381\n",
        "\n",
        "# momentum - csak solver='sgd'-vel mukodik -> 0.8 -> Iteration 80, loss = 0.58198978 Validation score: 0.756190\n",
        "\n",
        "# ha max_iter=150 hamarabb leall, mert a loss nem javult 10 epochon keresztul\n",
        "\n",
        "# Fit data onto the model\n",
        "clf.fit(X_train,y_train)"
      ],
      "metadata": {
        "id": "4mt5WcjksF6K",
        "colab": {
          "base_uri": "https://localhost:8080/",
          "height": 1000
        },
        "outputId": "714c8291-2406-45cc-eaee-f5a1c8545979"
      },
      "execution_count": 100,
      "outputs": [
        {
          "output_type": "stream",
          "name": "stdout",
          "text": [
            "Iteration 1, loss = 0.73757758\n",
            "Validation score: 0.727619\n",
            "Iteration 2, loss = 0.61555483\n",
            "Validation score: 0.747619\n",
            "Iteration 3, loss = 0.60043498\n",
            "Validation score: 0.753333\n",
            "Iteration 4, loss = 0.59764304\n",
            "Validation score: 0.750476\n",
            "Iteration 5, loss = 0.59437963\n",
            "Validation score: 0.754286\n",
            "Iteration 6, loss = 0.59133048\n",
            "Validation score: 0.759048\n",
            "Iteration 7, loss = 0.58810092\n",
            "Validation score: 0.755238\n",
            "Iteration 8, loss = 0.58641747\n",
            "Validation score: 0.761905\n",
            "Iteration 9, loss = 0.58353618\n",
            "Validation score: 0.767619\n",
            "Iteration 10, loss = 0.58007525\n",
            "Validation score: 0.768571\n",
            "Iteration 11, loss = 0.57656050\n",
            "Validation score: 0.779048\n",
            "Iteration 12, loss = 0.57395274\n",
            "Validation score: 0.776190\n",
            "Iteration 13, loss = 0.56997333\n",
            "Validation score: 0.761905\n",
            "Iteration 14, loss = 0.55828730\n",
            "Validation score: 0.761905\n",
            "Iteration 15, loss = 0.52483548\n",
            "Validation score: 0.761905\n",
            "Iteration 16, loss = 0.50165947\n",
            "Validation score: 0.761905\n",
            "Iteration 17, loss = 0.48375921\n",
            "Validation score: 0.760000\n",
            "Iteration 18, loss = 0.46694158\n",
            "Validation score: 0.760000\n",
            "Iteration 19, loss = 0.45809073\n",
            "Validation score: 0.754286\n",
            "Iteration 20, loss = 0.44181672\n",
            "Validation score: 0.750476\n",
            "Iteration 21, loss = 0.42722557\n",
            "Validation score: 0.780000\n",
            "Iteration 22, loss = 0.41468070\n",
            "Validation score: 0.783810\n",
            "Iteration 23, loss = 0.40745818\n",
            "Validation score: 0.771429\n",
            "Iteration 24, loss = 0.39552611\n",
            "Validation score: 0.819048\n",
            "Iteration 25, loss = 0.38861114\n",
            "Validation score: 0.763810\n",
            "Iteration 26, loss = 0.37653490\n",
            "Validation score: 0.755238\n",
            "Iteration 27, loss = 0.37075139\n",
            "Validation score: 0.812381\n",
            "Iteration 28, loss = 0.36142490\n",
            "Validation score: 0.893333\n",
            "Iteration 29, loss = 0.35487127\n",
            "Validation score: 0.807619\n",
            "Iteration 30, loss = 0.34571608\n",
            "Validation score: 0.875238\n",
            "Iteration 31, loss = 0.34102568\n",
            "Validation score: 0.837143\n",
            "Iteration 32, loss = 0.33324351\n",
            "Validation score: 0.799048\n",
            "Iteration 33, loss = 0.32913187\n",
            "Validation score: 0.794286\n",
            "Iteration 34, loss = 0.32248072\n",
            "Validation score: 0.842857\n",
            "Iteration 35, loss = 0.32058491\n",
            "Validation score: 0.900000\n",
            "Iteration 36, loss = 0.31526063\n",
            "Validation score: 0.842857\n",
            "Iteration 37, loss = 0.30753612\n",
            "Validation score: 0.881905\n",
            "Iteration 38, loss = 0.30375911\n",
            "Validation score: 0.848571\n",
            "Iteration 39, loss = 0.30563126\n",
            "Validation score: 0.897143\n",
            "Iteration 40, loss = 0.30185989\n",
            "Validation score: 0.869524\n",
            "Iteration 41, loss = 0.29374421\n",
            "Validation score: 0.904762\n",
            "Iteration 42, loss = 0.28921682\n",
            "Validation score: 0.878095\n",
            "Iteration 43, loss = 0.28530221\n",
            "Validation score: 0.904762\n",
            "Iteration 44, loss = 0.28080949\n",
            "Validation score: 0.886667\n",
            "Iteration 45, loss = 0.27654520\n",
            "Validation score: 0.903810\n",
            "Iteration 46, loss = 0.27572134\n",
            "Validation score: 0.897143\n",
            "Iteration 47, loss = 0.27372948\n",
            "Validation score: 0.903810\n",
            "Iteration 48, loss = 0.26984565\n",
            "Validation score: 0.909524\n",
            "Iteration 49, loss = 0.26451116\n",
            "Validation score: 0.903810\n",
            "Iteration 50, loss = 0.26362173\n",
            "Validation score: 0.909524\n",
            "Iteration 51, loss = 0.26028140\n",
            "Validation score: 0.902857\n",
            "Iteration 52, loss = 0.26038271\n",
            "Validation score: 0.914286\n",
            "Iteration 53, loss = 0.25641825\n",
            "Validation score: 0.917143\n",
            "Iteration 54, loss = 0.25836576\n",
            "Validation score: 0.908571\n",
            "Iteration 55, loss = 0.25658715\n",
            "Validation score: 0.915238\n",
            "Iteration 56, loss = 0.24860578\n",
            "Validation score: 0.914286\n",
            "Iteration 57, loss = 0.24801885\n",
            "Validation score: 0.919048\n",
            "Iteration 58, loss = 0.24550993\n",
            "Validation score: 0.905714\n",
            "Iteration 59, loss = 0.24647613\n",
            "Validation score: 0.920000\n",
            "Iteration 60, loss = 0.24320901\n",
            "Validation score: 0.912381\n",
            "Iteration 61, loss = 0.23899616\n",
            "Validation score: 0.918095\n",
            "Iteration 62, loss = 0.24267816\n",
            "Validation score: 0.900952\n",
            "Iteration 63, loss = 0.24063134\n",
            "Validation score: 0.912381\n",
            "Iteration 64, loss = 0.23946765\n",
            "Validation score: 0.924762\n",
            "Iteration 65, loss = 0.23533625\n",
            "Validation score: 0.911429\n",
            "Iteration 66, loss = 0.24130614\n",
            "Validation score: 0.917143\n",
            "Iteration 67, loss = 0.23541217\n",
            "Validation score: 0.927619\n",
            "Iteration 68, loss = 0.23186482\n",
            "Validation score: 0.914286\n",
            "Iteration 69, loss = 0.23116682\n",
            "Validation score: 0.928571\n",
            "Iteration 70, loss = 0.23270665\n",
            "Validation score: 0.913333\n",
            "Iteration 71, loss = 0.22998200\n",
            "Validation score: 0.922857\n",
            "Iteration 72, loss = 0.23134691\n",
            "Validation score: 0.929524\n",
            "Iteration 73, loss = 0.23069120\n",
            "Validation score: 0.904762\n",
            "Iteration 74, loss = 0.22909347\n",
            "Validation score: 0.922857\n",
            "Iteration 75, loss = 0.22790295\n",
            "Validation score: 0.929524\n",
            "Iteration 76, loss = 0.22642629\n",
            "Validation score: 0.917143\n",
            "Iteration 77, loss = 0.22926352\n",
            "Validation score: 0.922857\n",
            "Iteration 78, loss = 0.22301544\n",
            "Validation score: 0.920000\n",
            "Iteration 79, loss = 0.22268936\n",
            "Validation score: 0.932381\n",
            "Iteration 80, loss = 0.22379905\n",
            "Validation score: 0.921905\n",
            "Iteration 81, loss = 0.22231872\n",
            "Validation score: 0.919048\n",
            "Iteration 82, loss = 0.22726915\n",
            "Validation score: 0.893333\n",
            "Iteration 83, loss = 0.22490885\n",
            "Validation score: 0.911429\n",
            "Iteration 84, loss = 0.22103318\n",
            "Validation score: 0.920000\n",
            "Iteration 85, loss = 0.22030244\n",
            "Validation score: 0.934286\n",
            "Iteration 86, loss = 0.22263456\n",
            "Validation score: 0.927619\n",
            "Iteration 87, loss = 0.21917766\n",
            "Validation score: 0.934286\n",
            "Iteration 88, loss = 0.21780873\n",
            "Validation score: 0.933333\n",
            "Iteration 89, loss = 0.22128096\n",
            "Validation score: 0.920952\n",
            "Iteration 90, loss = 0.22098252\n",
            "Validation score: 0.928571\n",
            "Iteration 91, loss = 0.21659317\n",
            "Validation score: 0.928571\n",
            "Iteration 92, loss = 0.21605887\n",
            "Validation score: 0.930476\n",
            "Iteration 93, loss = 0.21902822\n",
            "Validation score: 0.929524\n",
            "Iteration 94, loss = 0.22049589\n",
            "Validation score: 0.924762\n",
            "Iteration 95, loss = 0.21735810\n",
            "Validation score: 0.920952\n",
            "Iteration 96, loss = 0.21644027\n",
            "Validation score: 0.935238\n",
            "Iteration 97, loss = 0.21456244\n",
            "Validation score: 0.938095\n",
            "Iteration 98, loss = 0.21452857\n",
            "Validation score: 0.923810\n",
            "Iteration 99, loss = 0.21581402\n",
            "Validation score: 0.931429\n",
            "Iteration 100, loss = 0.21650454\n",
            "Validation score: 0.932381\n",
            "Iteration 101, loss = 0.21241459\n",
            "Validation score: 0.934286\n",
            "Iteration 102, loss = 0.20936049\n",
            "Validation score: 0.931429\n",
            "Iteration 103, loss = 0.21134565\n",
            "Validation score: 0.933333\n",
            "Iteration 104, loss = 0.21520197\n",
            "Validation score: 0.931429\n",
            "Iteration 105, loss = 0.20987419\n",
            "Validation score: 0.911429\n",
            "Iteration 106, loss = 0.21873457\n",
            "Validation score: 0.934286\n",
            "Iteration 107, loss = 0.20974775\n",
            "Validation score: 0.939048\n",
            "Iteration 108, loss = 0.20849130\n",
            "Validation score: 0.914286\n",
            "Iteration 109, loss = 0.21189043\n",
            "Validation score: 0.917143\n",
            "Iteration 110, loss = 0.21067642\n",
            "Validation score: 0.913333\n",
            "Iteration 111, loss = 0.21184412\n",
            "Validation score: 0.926667\n",
            "Iteration 112, loss = 0.20815792\n",
            "Validation score: 0.926667\n",
            "Iteration 113, loss = 0.21265085\n",
            "Validation score: 0.929524\n",
            "Iteration 114, loss = 0.21688979\n",
            "Validation score: 0.927619\n",
            "Iteration 115, loss = 0.21471560\n",
            "Validation score: 0.927619\n",
            "Iteration 116, loss = 0.21032105\n",
            "Validation score: 0.934286\n",
            "Iteration 117, loss = 0.20578290\n",
            "Validation score: 0.929524\n",
            "Iteration 118, loss = 0.20838178\n",
            "Validation score: 0.926667\n",
            "Validation score did not improve more than tol=0.000100 for 10 consecutive epochs. Stopping.\n"
          ]
        },
        {
          "output_type": "execute_result",
          "data": {
            "text/plain": [
              "MLPClassifier(early_stopping=True, hidden_layer_sizes=(6, 5),\n",
              "              learning_rate='adaptive', max_iter=150, momentum=0.8,\n",
              "              random_state=5, verbose=True)"
            ],
            "text/html": [
              "<style>#sk-container-id-82 {color: black;background-color: white;}#sk-container-id-82 pre{padding: 0;}#sk-container-id-82 div.sk-toggleable {background-color: white;}#sk-container-id-82 label.sk-toggleable__label {cursor: pointer;display: block;width: 100%;margin-bottom: 0;padding: 0.3em;box-sizing: border-box;text-align: center;}#sk-container-id-82 label.sk-toggleable__label-arrow:before {content: \"▸\";float: left;margin-right: 0.25em;color: #696969;}#sk-container-id-82 label.sk-toggleable__label-arrow:hover:before {color: black;}#sk-container-id-82 div.sk-estimator:hover label.sk-toggleable__label-arrow:before {color: black;}#sk-container-id-82 div.sk-toggleable__content {max-height: 0;max-width: 0;overflow: hidden;text-align: left;background-color: #f0f8ff;}#sk-container-id-82 div.sk-toggleable__content pre {margin: 0.2em;color: black;border-radius: 0.25em;background-color: #f0f8ff;}#sk-container-id-82 input.sk-toggleable__control:checked~div.sk-toggleable__content {max-height: 200px;max-width: 100%;overflow: auto;}#sk-container-id-82 input.sk-toggleable__control:checked~label.sk-toggleable__label-arrow:before {content: \"▾\";}#sk-container-id-82 div.sk-estimator input.sk-toggleable__control:checked~label.sk-toggleable__label {background-color: #d4ebff;}#sk-container-id-82 div.sk-label input.sk-toggleable__control:checked~label.sk-toggleable__label {background-color: #d4ebff;}#sk-container-id-82 input.sk-hidden--visually {border: 0;clip: rect(1px 1px 1px 1px);clip: rect(1px, 1px, 1px, 1px);height: 1px;margin: -1px;overflow: hidden;padding: 0;position: absolute;width: 1px;}#sk-container-id-82 div.sk-estimator {font-family: monospace;background-color: #f0f8ff;border: 1px dotted black;border-radius: 0.25em;box-sizing: border-box;margin-bottom: 0.5em;}#sk-container-id-82 div.sk-estimator:hover {background-color: #d4ebff;}#sk-container-id-82 div.sk-parallel-item::after {content: \"\";width: 100%;border-bottom: 1px solid gray;flex-grow: 1;}#sk-container-id-82 div.sk-label:hover label.sk-toggleable__label {background-color: #d4ebff;}#sk-container-id-82 div.sk-serial::before {content: \"\";position: absolute;border-left: 1px solid gray;box-sizing: border-box;top: 0;bottom: 0;left: 50%;z-index: 0;}#sk-container-id-82 div.sk-serial {display: flex;flex-direction: column;align-items: center;background-color: white;padding-right: 0.2em;padding-left: 0.2em;position: relative;}#sk-container-id-82 div.sk-item {position: relative;z-index: 1;}#sk-container-id-82 div.sk-parallel {display: flex;align-items: stretch;justify-content: center;background-color: white;position: relative;}#sk-container-id-82 div.sk-item::before, #sk-container-id-82 div.sk-parallel-item::before {content: \"\";position: absolute;border-left: 1px solid gray;box-sizing: border-box;top: 0;bottom: 0;left: 50%;z-index: -1;}#sk-container-id-82 div.sk-parallel-item {display: flex;flex-direction: column;z-index: 1;position: relative;background-color: white;}#sk-container-id-82 div.sk-parallel-item:first-child::after {align-self: flex-end;width: 50%;}#sk-container-id-82 div.sk-parallel-item:last-child::after {align-self: flex-start;width: 50%;}#sk-container-id-82 div.sk-parallel-item:only-child::after {width: 0;}#sk-container-id-82 div.sk-dashed-wrapped {border: 1px dashed gray;margin: 0 0.4em 0.5em 0.4em;box-sizing: border-box;padding-bottom: 0.4em;background-color: white;}#sk-container-id-82 div.sk-label label {font-family: monospace;font-weight: bold;display: inline-block;line-height: 1.2em;}#sk-container-id-82 div.sk-label-container {text-align: center;}#sk-container-id-82 div.sk-container {/* jupyter's `normalize.less` sets `[hidden] { display: none; }` but bootstrap.min.css set `[hidden] { display: none !important; }` so we also need the `!important` here to be able to override the default hidden behavior on the sphinx rendered scikit-learn.org. See: https://github.com/scikit-learn/scikit-learn/issues/21755 */display: inline-block !important;position: relative;}#sk-container-id-82 div.sk-text-repr-fallback {display: none;}</style><div id=\"sk-container-id-82\" class=\"sk-top-container\"><div class=\"sk-text-repr-fallback\"><pre>MLPClassifier(early_stopping=True, hidden_layer_sizes=(6, 5),\n",
              "              learning_rate=&#x27;adaptive&#x27;, max_iter=150, momentum=0.8,\n",
              "              random_state=5, verbose=True)</pre><b>In a Jupyter environment, please rerun this cell to show the HTML representation or trust the notebook. <br />On GitHub, the HTML representation is unable to render, please try loading this page with nbviewer.org.</b></div><div class=\"sk-container\" hidden><div class=\"sk-item\"><div class=\"sk-estimator sk-toggleable\"><input class=\"sk-toggleable__control sk-hidden--visually\" id=\"sk-estimator-id-82\" type=\"checkbox\" checked><label for=\"sk-estimator-id-82\" class=\"sk-toggleable__label sk-toggleable__label-arrow\">MLPClassifier</label><div class=\"sk-toggleable__content\"><pre>MLPClassifier(early_stopping=True, hidden_layer_sizes=(6, 5),\n",
              "              learning_rate=&#x27;adaptive&#x27;, max_iter=150, momentum=0.8,\n",
              "              random_state=5, verbose=True)</pre></div></div></div></div></div>"
            ]
          },
          "metadata": {},
          "execution_count": 100
        }
      ]
    },
    {
      "cell_type": "markdown",
      "source": [
        "Paraméterek:\n",
        "```\n",
        "clf = MLPClassifier(hidden_layer_sizes=(6,5),\n",
        "                    random_state=5,\n",
        "                    early_stopping=True,\n",
        "                    max_iter=300,\n",
        "                    learning_rate_init=0.01,\n",
        "                    verbose=True)\n",
        "```\n",
        "hidden_layer_sizes: ez egy sor, ahol minden elem egy réteget képvisel, értéke pedig az egyes rejtett rétegeken lévő neuronok számát.\n",
        "\n",
        "random_state: Meghatározza a súlyok és a torzítás inicializálásának véletlenszámát.\n",
        "\n",
        "early_stopping: bool, default=False -->\n",
        "Meghatározza, hogy használja-e a korai leállítást a képzés befejezésére, ha az érvényesítési pontszám nem javul. Ha igazra van állítva, akkor automatikusan félreteszi a betanítási adatok 10%-át érvényesítésként, és leállítja a képzést, ha az érvényesítési pontszám nem javul legalább X-szel n_iter_no_change egymást követő időszakban. A felosztás rétegzett, kivéve a többcímkés beállítást. Ha a korai leállítás Hamis, akkor az edzés leáll, ha az edzési veszteség nem javul X-nél nagyobb mértékben az edzéskészleten átívelő n_iter_no_change egymást követő lépések során. Csak akkor hatásos, ha solver='sgd' vagy 'adam'.\n",
        "\n",
        "max_iter: int, alapértelmezett=200 --> Az iterációk maximális száma. A megoldó addig iterál, amíg a konvergencia (amit az „X” határoz meg) vagy ennyi iterációig. A sztochasztikus megoldóknál ('sgd', 'adam') vegye figyelembe, hogy ez határozza meg az epochák számát (az egyes adatpontok hányszor kerül felhasználásra), nem pedig a gradiens lépéseinek számát.\n",
        "\n",
        "learning_rate_init: Korábban a súlyok frissítésének lépésszámát szabályozta.\n",
        "\n",
        "activation: A rejtett réteg aktiválási funkciója. Példák: identitás, logisztika, tanh és relu. alapértelmezés szerint a relu aktiváló funkcióként használatos.\n",
        "\n",
        "\n",
        "verbose: Az előrehaladási üzenetek szabványos kimenetre történő nyomtatására szolgál."
      ],
      "metadata": {
        "id": "kS_7otqWppUZ"
      }
    },
    {
      "cell_type": "markdown",
      "source": [
        "# Készítsen előrejelzést(Prediction) és értékelje a modellt\n",
        "Ebben a részben előrejelzéseket készítünk a tesztadatkészletről, és értékeljük a modell pontosságát a tesztadatkészlet rendelkezésre álló tényleges címkéi alapján.\n",
        "\n",
        "# Eredmények:"
      ],
      "metadata": {
        "id": "sbcLo-7Vp_Kr"
      }
    },
    {
      "cell_type": "code",
      "source": [
        "# Make prediction on test dataset\n",
        "ypred=clf.predict(X_test) # eredmeny kiertekelese\n",
        "\n",
        "# Model Accuracy, how often is the classifier correct?\n",
        "print(\"Accuracy:\",metrics.accuracy_score(y_test, ypred))\n",
        "\n",
        "# Model Precision\n",
        "print(\"Precision:\",metrics.precision_score(y_test, ypred))\n",
        "\n",
        "# Model Recall\n",
        "print(\"Recall:\",metrics.recall_score(y_test, ypred))"
      ],
      "metadata": {
        "colab": {
          "base_uri": "https://localhost:8080/"
        },
        "id": "zpjYVwU1qHHi",
        "outputId": "272013e2-54de-4531-d8d3-3ae044811859"
      },
      "execution_count": 9,
      "outputs": [
        {
          "output_type": "stream",
          "name": "stdout",
          "text": [
            "Accuracy: 0.9137777777777778\n",
            "Precision: 0.8184357541899442\n",
            "Recall: 0.8199626865671642\n"
          ]
        }
      ]
    },
    {
      "cell_type": "code",
      "source": [
        "print(\"Best validation score\", clf.best_validation_score_)\n",
        "print(\"Vorst lost score\", clf.loss_)"
      ],
      "metadata": {
        "colab": {
          "base_uri": "https://localhost:8080/"
        },
        "id": "rf7LTwXqdK_l",
        "outputId": "96dc7dca-b16f-4d94-a867-1e4b75d4b6af"
      },
      "execution_count": 10,
      "outputs": [
        {
          "output_type": "stream",
          "name": "stdout",
          "text": [
            "Best validation score 0.9123809523809524\n",
            "Vorst lost score 0.25165638869894724\n"
          ]
        }
      ]
    },
    {
      "cell_type": "code",
      "source": [
        "plt.plot(clf.validation_scores_)\n",
        "plt.title(\"Validation Curve\", fontsize=14)\n",
        "plt.xlabel('Iterations')\n",
        "plt.ylabel('Cost')\n",
        "plt.show()"
      ],
      "metadata": {
        "colab": {
          "base_uri": "https://localhost:8080/",
          "height": 473
        },
        "id": "XKGpR_R0VBN1",
        "outputId": "e05fa262-abfb-4891-c111-9b1e11a332ea"
      },
      "execution_count": 11,
      "outputs": [
        {
          "output_type": "display_data",
          "data": {
            "text/plain": [
              "<Figure size 640x480 with 1 Axes>"
            ],
            "image/png": "[encoded data removed]"
          },
          "metadata": {}
        }
      ]
    },
    {
      "cell_type": "code",
      "source": [
        "plt.plot(clf.loss_curve_)\n",
        "plt.title(\"Loss Curve\", fontsize=14)\n",
        "plt.xlabel('Iterations')\n",
        "plt.ylabel('Cost')\n",
        "plt.show()"
      ],
      "metadata": {
        "colab": {
          "base_uri": "https://localhost:8080/",
          "height": 473
        },
        "id": "m3wTVmP6QcvH",
        "outputId": "52976dbe-e6f2-4eb4-8243-99f0d0e73c81"
      },
      "execution_count": 12,
      "outputs": [
        {
          "output_type": "display_data",
          "data": {
            "text/plain": [
              "<Figure size 640x480 with 1 Axes>"
            ],
            "image/png": "[encoded data removed]"
          },
          "metadata": {}
        }
      ]
    },
    {
      "cell_type": "markdown",
      "source": [
        "Megoldandó feladatok (amelyeket be kell küldeni):\n",
        "\n",
        "Segítő link: https://scikit-learn.org/stable/modules/generated/sklearn.neural_network.MLPClassifier.html\n",
        "\n",
        "Az alábbi modelt módosítsd:\n",
        "\n",
        "clf = MLPClassifier(hidden_layer_sizes=(6,5),\n",
        "                    random_state=5,\n",
        "                    verbose=True,\n",
        "                    learning_rate_init=0.01)\n",
        "\n",
        "I.\n",
        "1.   Változtasd a meglévő paramétereket: hidden_layer_sizes, learning_rate_init, random_state.\n",
        "Mit változtatnak? Rontanak vagy segítenek? Dokumentáld le. Írd le az észrevételeidet.\n",
        "2.   Próbáld ki a következő paramétereket: activation, solver, learning_rate.\n",
        "Mit változtatnak? Rontanak segítenek? Dokumentáld le. Írd le az észrevételeidet.\n",
        "3.   Mit csinál a max_iter paraméter? Mi lenne ha 50-re lenne beállítva?\n",
        "4.   Vezesd be az alábbi paramétert 'momentum', a modelbe mire való? Mit csinál? Mit változtat?\n",
        "5.   Melyik beállításokkal lesz a legjobb eredmény?\n",
        "6.   Miért áll le hamarabb, mint a max iteráció?\n",
        "7.   Mire való a GridSearchCV? Próbáld ki. Becs szó sokat segít majd, de ha a végén csinálod ezt a feladatot akkor semmit nem segít. De én szóltam, és írtam :P\n",
        "\n",
        "Mielőtt kérdeznéd, hogy mit írj be, hova s mit, nézz utánna. A lényeg, hogy kisérletezz és válaszokat kapjunk a feltett kérdésre."
      ],
      "metadata": {
        "id": "NX1AGynlu-dU"
      }
    },
    {
      "cell_type": "code",
      "source": [
        "#GridSearchCV egyszerű meghívása és beállítása\n",
        "from sklearn.model_selection import GridSearchCV\n",
        "\n",
        "parameters = {'activation':('relu', 'logistic'), 'solver':('sgd', 'adam')} # ha tul sok van, akkor orakig is futhat\n",
        "clf = MLPClassifier()\n",
        "gsCV = GridSearchCV(clf, parameters)\n",
        "\n",
        "gsCV.fit(X_train, y_train)\n",
        "\n",
        "print(gsCV.best_params_)"
      ],
      "metadata": {
        "id": "XKpClkhDu8WL",
        "colab": {
          "base_uri": "https://localhost:8080/"
        },
        "outputId": "88cb3406-f18d-4a45-8856-5727869d76f6"
      },
      "execution_count": 14,
      "outputs": [
        {
          "output_type": "stream",
          "name": "stderr",
          "text": [
            "/usr/local/lib/python3.10/dist-packages/sklearn/neural_network/_multilayer_perceptron.py:686: ConvergenceWarning: Stochastic Optimizer: Maximum iterations (200) reached and the optimization hasn't converged yet.\n",
            "  warnings.warn(\n",
            "/usr/local/lib/python3.10/dist-packages/sklearn/neural_network/_multilayer_perceptron.py:686: ConvergenceWarning: Stochastic Optimizer: Maximum iterations (200) reached and the optimization hasn't converged yet.\n",
            "  warnings.warn(\n",
            "/usr/local/lib/python3.10/dist-packages/sklearn/neural_network/_multilayer_perceptron.py:686: ConvergenceWarning: Stochastic Optimizer: Maximum iterations (200) reached and the optimization hasn't converged yet.\n",
            "  warnings.warn(\n",
            "/usr/local/lib/python3.10/dist-packages/sklearn/neural_network/_multilayer_perceptron.py:686: ConvergenceWarning: Stochastic Optimizer: Maximum iterations (200) reached and the optimization hasn't converged yet.\n",
            "  warnings.warn(\n",
            "/usr/local/lib/python3.10/dist-packages/sklearn/neural_network/_multilayer_perceptron.py:686: ConvergenceWarning: Stochastic Optimizer: Maximum iterations (200) reached and the optimization hasn't converged yet.\n",
            "  warnings.warn(\n"
          ]
        },
        {
          "output_type": "stream",
          "name": "stdout",
          "text": [
            "{'activation': 'logistic', 'solver': 'adam'}\n"
          ]
        },
        {
          "output_type": "stream",
          "name": "stderr",
          "text": [
            "/usr/local/lib/python3.10/dist-packages/sklearn/neural_network/_multilayer_perceptron.py:686: ConvergenceWarning: Stochastic Optimizer: Maximum iterations (200) reached and the optimization hasn't converged yet.\n",
            "  warnings.warn(\n"
          ]
        }
      ]
    }
  ]
}